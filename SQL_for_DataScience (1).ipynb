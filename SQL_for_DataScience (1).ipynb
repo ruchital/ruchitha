{
 "cells": [
  {
   "cell_type": "raw",
   "metadata": {
    "id": "e4uZsaHcFpzA"
   },
   "source": [
    "PyMySQL is an interface for connecting to a MySQL database server from Python. It contains a pure-Python MySQL client library."
   ]
  },
  {
   "cell_type": "code",
   "execution_count": null,
   "metadata": {
    "id": "XAI6GI0LFpzC"
   },
   "outputs": [],
   "source": [
    "#!pip install pymysql\n",
    "!pip install mysql-connector \n",
    "\n",
    "#mysql-connector - standardized driver for Python platform. \n",
    "#It enables python programs to access MySQL databases."
   ]
  },
  {
   "cell_type": "code",
   "execution_count": null,
   "metadata": {
    "id": "A92B7-uLFpzF"
   },
   "outputs": [],
   "source": [
    "import mysql.connector\n",
    "import pandas as pd\n",
    "import numpy as np"
   ]
  },
  {
   "cell_type": "code",
   "execution_count": null,
   "metadata": {
    "id": "cfkaycABw_ls"
   },
   "outputs": [],
   "source": [
    "## making connections to database server\n",
    "connection=mysql.connector.connect(host = '18.136.157.135',\n",
    "                                  user='dm_user_sql',\n",
    "                                  password='37z49REb$nK@nlpV!vJ')"
   ]
  },
  {
   "cell_type": "code",
   "execution_count": null,
   "metadata": {
    "id": "vnfH824pw_lt",
    "outputId": "95cb43fb-10a4-4823-bf7b-6f0f7c1fcc9a"
   },
   "outputs": [],
   "source": [
    "## Check the number of databases available on the server\n",
    "cursor=connection.cursor() # helps in executing the statements \n",
    "cursor.execute('show databases')\n",
    "for i in cursor:\n",
    "    print(i)"
   ]
  },
  {
   "cell_type": "code",
   "execution_count": null,
   "metadata": {
    "id": "-5sZT1cVw_lu"
   },
   "outputs": [],
   "source": [
    "## connecting the database  (configure to initiate the connection to mysql)\n",
    "connection=mysql.connector.connect(host='18.136.157.135',\n",
    "                                  user='dm_user_sql',\n",
    "                                  password='37z49REb$nK@nlpV!vJ',\n",
    "                                  database='datamites_sql')"
   ]
  },
  {
   "cell_type": "code",
   "execution_count": null,
   "metadata": {
    "id": "WlMx0Ykcw_lv",
    "outputId": "e404f6cd-ea6d-46ec-9a8b-5547d73ec580",
    "scrolled": true
   },
   "outputs": [],
   "source": [
    "# view tables present in datamites_sql db\n",
    "\n",
    "db_tables=pd.read_sql_query('show tables',connection)\n",
    "print(db_tables)"
   ]
  },
  {
   "cell_type": "markdown",
   "metadata": {},
   "source": [
    "A query is a question, regularly communicated formally. A database query can be either a select question or an action query. A select query is an information recovery query, while an activity query requests \n",
    "extra tasks on the information, for example, addition, refreshing or deletion."
   ]
  },
  {
   "cell_type": "code",
   "execution_count": null,
   "metadata": {
    "id": "XLgwglgXFpzJ",
    "outputId": "b01d0d8a-f2c5-489a-9330-60cb00632ea9"
   },
   "outputs": [],
   "source": [
    "# The SELECT statement is used to select data from a database.\n",
    "# Select * will select all the fields (all rows and columns) available in the table.\n",
    "\n",
    "query = \"select * from dept\"  # SQL statement to select all fields in 'dept' table.\n",
    "output = pd.read_sql(query,connection) \n",
    "print(output.shape)\n",
    "output"
   ]
  },
  {
   "cell_type": "code",
   "execution_count": null,
   "metadata": {},
   "outputs": [],
   "source": [
    "#query = \"select * from dept\"  # SQL statement to select all fields in 'dept' table.\n",
    "ou = pd.read_sql(\"select * from dept\",connection) \n",
    "print(ou.shape)\n",
    "ou"
   ]
  },
  {
   "cell_type": "code",
   "execution_count": null,
   "metadata": {},
   "outputs": [],
   "source": [
    "# Task:-get details of products table\n",
    "op = pd.read_sql(\"select * from emp\", connection)\n",
    "op"
   ]
  },
  {
   "cell_type": "code",
   "execution_count": null,
   "metadata": {},
   "outputs": [],
   "source": [
    "#SELECT DISTINCT clause to retrieve the only distinct/unique values in a specified list of columns.\n",
    "query = \"SELECT DISTINCT job FROM emp\"\n",
    "output = pd.read_sql(query,connection)\n",
    "output\n"
   ]
  },
  {
   "cell_type": "code",
   "execution_count": null,
   "metadata": {},
   "outputs": [],
   "source": [
    "query = \"select * from products\"\n",
    "em = pd.read_sql(query,connection)\n",
    "print(em.shape)\n",
    "em"
   ]
  },
  {
   "cell_type": "code",
   "execution_count": null,
   "metadata": {
    "scrolled": true
   },
   "outputs": [],
   "source": [
    "# check how many unique values are the for a specified column (job) from 'emp' table.\n",
    "\n",
    "query = \"SELECT count(DISTINCT job) FROM emp\"\n",
    "output = pd.read_sql(query,connection)\n",
    "output"
   ]
  },
  {
   "cell_type": "code",
   "execution_count": null,
   "metadata": {
    "id": "O8cIo_NkFpza",
    "outputId": "1e7dc240-2c5d-49ff-e851-2f9bed19dc2c"
   },
   "outputs": [],
   "source": [
    "query  =  \"select DISTINCT product_id FROM orders\"  \n",
    "data = pd.read_sql(query,connection)\n",
    "print(data.shape)\n",
    "data"
   ]
  },
  {
   "cell_type": "markdown",
   "metadata": {
    "id": "FNgivDqPFpzV"
   },
   "source": [
    "# SQL Where Condition for filtering\n",
    "\n",
    "WHERE Clause in MySQL is a keyword used to specify the exact criteria of data or rows. It is used to filter rows / records."
   ]
  },
  {
   "cell_type": "code",
   "execution_count": null,
   "metadata": {
    "id": "t8_sew7XFpzX",
    "outputId": "0ea78846-64b6-4017-9528-921d369846a8"
   },
   "outputs": [],
   "source": [
    "query = \"select * from products where category='Furniture'\"\n",
    "products = pd.read_sql(query,connection)\n",
    "print(products.shape)\n",
    "products"
   ]
  },
  {
   "cell_type": "code",
   "execution_count": null,
   "metadata": {
    "scrolled": true
   },
   "outputs": [],
   "source": [
    "# retrieve data from 'emp' table  condition\n",
    "\n",
    "query = \"select * from emp where job='MANAGER'\"\n",
    "products = pd.read_sql(query,connection)\n",
    "print(products.shape)\n",
    "products"
   ]
  },
  {
   "cell_type": "code",
   "execution_count": null,
   "metadata": {},
   "outputs": [],
   "source": [
    "query = \"select * from products where category!='Furniture'\"\n",
    "products = pd.read_sql(query,connection)\n",
    "print(products.shape)\n",
    "products"
   ]
  },
  {
   "cell_type": "markdown",
   "metadata": {
    "id": "8GBoxL0NFpzY"
   },
   "source": [
    "# SQL Where Condition and logical statement"
   ]
  },
  {
   "cell_type": "markdown",
   "metadata": {},
   "source": [
    "AND --> Returns the records which satisfies both the given expressions <br>\n",
    "OR --> Returns the records which satisfies either the given expressions"
   ]
  },
  {
   "cell_type": "code",
   "execution_count": null,
   "metadata": {
    "id": "S2uiPK0GFpzY",
    "outputId": "c5386638-2cb2-49c3-c2ee-b4c274becaca"
   },
   "outputs": [],
   "source": [
    "query = \"select * from products where category='Furniture' or category='Technology'\"\n",
    "products = pd.read_sql(query,connection)\n",
    "print(products.shape)\n",
    "products"
   ]
  },
  {
   "cell_type": "code",
   "execution_count": null,
   "metadata": {},
   "outputs": [],
   "source": [
    "#except office supplies all the records will be retrieved."
   ]
  },
  {
   "cell_type": "code",
   "execution_count": null,
   "metadata": {
    "id": "TyQfMW6SFpzZ",
    "outputId": "e9598902-a797-4777-9f8c-a2799ec4eef5"
   },
   "outputs": [],
   "source": [
    "query = \"select * from products where category='Furniture' and category='Technology'\"\n",
    "products = pd.read_sql(query,connection)\n",
    "print(products.shape)\n",
    "products"
   ]
  },
  {
   "cell_type": "code",
   "execution_count": null,
   "metadata": {},
   "outputs": [],
   "source": [
    "# we dont have any records which has category as furniture AND technology. \n",
    "# So no records are returned."
   ]
  },
  {
   "cell_type": "markdown",
   "metadata": {},
   "source": [
    "The **GROUP BY** statement groups rows that have the same values into summary rows.\n",
    "\n",
    "The GROUP BY statement is often used with aggregate functions (COUNT(), MAX(), MIN(), SUM(), AVG()) \n",
    "to group the result-set by one or more columns.\n",
    "\n",
    "The GROUP BY clause divides the result set into groups of values and the aggregate function returns a single value for each group."
   ]
  },
  {
   "cell_type": "code",
   "execution_count": null,
   "metadata": {
    "id": "sr7fgp94Fpza",
    "outputId": "5e04eade-e648-4c1f-931f-0866232dc3f0"
   },
   "outputs": [],
   "source": [
    "#\n",
    "query= \"select count(sub_category), category from  products  group by category\"\n",
    "data = pd.read_sql(query,connection)\n",
    "data  "
   ]
  },
  {
   "cell_type": "code",
   "execution_count": null,
   "metadata": {
    "scrolled": true
   },
   "outputs": [],
   "source": [
    "query = \"select * from products\"\n",
    "data = pd.read_sql(query,connection)\n",
    "data "
   ]
  },
  {
   "cell_type": "code",
   "execution_count": null,
   "metadata": {
    "id": "lVvLSFykFpzb",
    "outputId": "11c7cdf3-e74d-4d58-ad0b-eddc1fa79c1d",
    "scrolled": true
   },
   "outputs": [],
   "source": [
    "#Retrieve all data from products where category is Office Supplies and sub-category is Binders\n",
    "\n",
    "query = \"select * from products where category='Office Supplies' and sub_category='Binders'\"\n",
    "products = pd.read_sql(query,connection)\n",
    "print(products.shape)\n",
    "products"
   ]
  },
  {
   "cell_type": "code",
   "execution_count": null,
   "metadata": {
    "id": "TSX6RM_RFpzc",
    "outputId": "1f5b70ec-58aa-4e02-842d-5c618aff8b8a"
   },
   "outputs": [],
   "source": [
    "query = \"select * from products where category='Office Supplies' or sub_category='Binders'\"\n",
    "products = pd.read_sql(query,connection)\n",
    "print(products.shape)\n",
    "products"
   ]
  },
  {
   "cell_type": "markdown",
   "metadata": {},
   "source": [
    "# SQL order by clause"
   ]
  },
  {
   "cell_type": "markdown",
   "metadata": {},
   "source": [
    "The ORDER BY command is used to sort the result set in **ascending** or **descending order**. it will be in ascending order by default. To sort the records in descending order, use the DESC keyword."
   ]
  },
  {
   "cell_type": "code",
   "execution_count": null,
   "metadata": {},
   "outputs": [],
   "source": [
    "query = \"SELECT * FROM emp order by sal\"\n",
    "output = pd.read_sql(query,connection)\n",
    "output"
   ]
  },
  {
   "cell_type": "code",
   "execution_count": null,
   "metadata": {},
   "outputs": [],
   "source": [
    "query = \"SELECT * FROM emp order by sal desc\"\n",
    "output = pd.read_sql(query,connection)\n",
    "output"
   ]
  },
  {
   "cell_type": "code",
   "execution_count": null,
   "metadata": {},
   "outputs": [],
   "source": [
    "query = \"SELECT * FROM emp order by sal,deptno\"\n",
    "output = pd.read_sql(query,connection)\n",
    "output"
   ]
  },
  {
   "cell_type": "markdown",
   "metadata": {},
   "source": [
    "# SQL NULL Values"
   ]
  },
  {
   "cell_type": "code",
   "execution_count": null,
   "metadata": {
    "scrolled": true
   },
   "outputs": [],
   "source": [
    "# get records where comm has null values in emp table\n",
    "query = \"SELECT * FROM emp where comm is null order by ename\"\n",
    "output = pd.read_sql(query,connection)\n",
    "output"
   ]
  },
  {
   "cell_type": "code",
   "execution_count": null,
   "metadata": {
    "scrolled": true
   },
   "outputs": [],
   "source": [
    "query = \"SELECT * FROM emp where comm is not null \"\n",
    "output = pd.read_sql(query,connection)\n",
    "output"
   ]
  },
  {
   "cell_type": "markdown",
   "metadata": {},
   "source": [
    "# SQL Aggregation"
   ]
  },
  {
   "cell_type": "code",
   "execution_count": null,
   "metadata": {},
   "outputs": [],
   "source": [
    "# An SQL aggregate function calculates on a set of values and returns a single value. \n",
    "# For eg, the average function ( AVG) takes a list of values and returns the average.\n",
    "# SQL aggregate functions including AVG(), COUNT(), MIN(), MAX(), and SUM()."
   ]
  },
  {
   "cell_type": "code",
   "execution_count": null,
   "metadata": {},
   "outputs": [],
   "source": [
    "query = \"SELECT min(sal) FROM emp where comm is not null \"\n",
    "output = pd.read_sql(query,connection)\n",
    "output"
   ]
  },
  {
   "cell_type": "code",
   "execution_count": null,
   "metadata": {},
   "outputs": [],
   "source": [
    "query = \"SELECT max(sal) FROM emp\"\n",
    "output = pd.read_sql(query,connection)\n",
    "output"
   ]
  },
  {
   "cell_type": "code",
   "execution_count": null,
   "metadata": {
    "scrolled": true
   },
   "outputs": [],
   "source": [
    "query = \"SELECT avg(sal) FROM emp where comm is not null \"\n",
    "output = pd.read_sql(query,connection)\n",
    "output"
   ]
  },
  {
   "cell_type": "markdown",
   "metadata": {},
   "source": [
    "# SQL Like operator"
   ]
  },
  {
   "cell_type": "markdown",
   "metadata": {},
   "source": [
    "The LIKE operator is used in a WHERE clause to search for a specified pattern in a column."
   ]
  },
  {
   "cell_type": "code",
   "execution_count": null,
   "metadata": {},
   "outputs": [],
   "source": [
    "WHERE CustomerName LIKE 'a%'\tFinds any values that start with \"a\"\n",
    "WHERE CustomerName LIKE '%a'\tFinds any values that end with \"a\"\n",
    "WHERE CustomerName LIKE '%or%'\tFinds any values that have \"or\" in any position\n",
    "WHERE CustomerName LIKE '_r%'\tFinds any values that have \"r\" in the second position\n",
    "WHERE CustomerName LIKE 'a_%'\tFinds any values that start with \"a\" and are at least 2 characters in length\n",
    "WHERE CustomerName LIKE 'a__%'\tFinds any values that start with \"a\" and are at least 3 characters in length\n",
    "WHERE ContactName LIKE 'a%o'\tFinds any values that start with \"a\" and ends with \"o\""
   ]
  },
  {
   "cell_type": "code",
   "execution_count": null,
   "metadata": {
    "scrolled": true
   },
   "outputs": [],
   "source": [
    "query = \"SELECT  * FROM emp where ename like 'k%n' \"\n",
    "output = pd.read_sql(query,connection)\n",
    "output"
   ]
  },
  {
   "cell_type": "markdown",
   "metadata": {},
   "source": [
    "# SQL IN operator"
   ]
  },
  {
   "cell_type": "markdown",
   "metadata": {},
   "source": [
    "The IN operator allows you to specify multiple values or sub-query in a WHERE clause.\n",
    "The IN operator is a shorthand for multiple OR conditions."
   ]
  },
  {
   "cell_type": "code",
   "execution_count": null,
   "metadata": {},
   "outputs": [],
   "source": [
    "query = \"SELECT  * FROM dept\"\n",
    "output = pd.read_sql(query,connection)\n",
    "output"
   ]
  },
  {
   "cell_type": "code",
   "execution_count": null,
   "metadata": {
    "scrolled": true
   },
   "outputs": [],
   "source": [
    "query = \"SELECT  * FROM dept where dname in ('Sales','Research')\"\n",
    "output = pd.read_sql(query,connection)\n",
    "output\n"
   ]
  },
  {
   "cell_type": "markdown",
   "metadata": {},
   "source": [
    "# SQL Between operator"
   ]
  },
  {
   "cell_type": "markdown",
   "metadata": {},
   "source": [
    "The BETWEEN operator selects values within a given range. The values can be numbers, text, or dates.\n",
    "The BETWEEN operator is inclusive: begin and end values are included. "
   ]
  },
  {
   "cell_type": "code",
   "execution_count": null,
   "metadata": {
    "scrolled": true
   },
   "outputs": [],
   "source": [
    "query = \"SELECT  * FROM emp where sal between 800.0 and 1600.0 \"\n",
    "output = pd.read_sql(query,connection)\n",
    "output"
   ]
  },
  {
   "cell_type": "markdown",
   "metadata": {},
   "source": [
    "# SQL Joins\n",
    "* (INNER) JOIN: Returns records that have matching values in both tables.\n",
    "\n",
    "* LEFT (OUTER) JOIN: Returns all records from the left table, and the matched records from the right table.\n",
    "\n",
    "* RIGHT (OUTER) JOIN: Returns all records from the right table, and the matched records from the left table"
   ]
  },
  {
   "attachments": {
    "image.png": {
     "image/png": "[encoded data removed]"
    }
   },
   "cell_type": "markdown",
   "metadata": {},
   "source": [
    "![image.png](attachment:image.png)"
   ]
  },
  {
   "cell_type": "code",
   "execution_count": null,
   "metadata": {},
   "outputs": [],
   "source": [
    "query = \"select * from products \" # SQL statement\n",
    "output = pd.read_sql(query,connection)\n",
    "print(output.shape)\n",
    "output"
   ]
  },
  {
   "cell_type": "code",
   "execution_count": null,
   "metadata": {},
   "outputs": [],
   "source": [
    "query = \"select * from customers \" # SQL statement\n",
    "output = pd.read_sql(query,connection)\n",
    "print(output.shape)\n",
    "output"
   ]
  },
  {
   "cell_type": "code",
   "execution_count": null,
   "metadata": {},
   "outputs": [],
   "source": [
    "query = \"select * from orders \" # SQL statement\n",
    "output = pd.read_sql(query,connection)\n",
    "print(output.shape)\n",
    "output"
   ]
  },
  {
   "cell_type": "markdown",
   "metadata": {
    "id": "VwzneaqbFpzc"
   },
   "source": [
    "## SQL Left Join\n",
    "also called as Left Outer Join\n",
    "* INNER JOIN - Matched rows from two tables\n",
    "\n",
    "* LEFT OUTER join includes unmatched rows from the left table + matched rows, while RIGHT OUTER join includes unmatched rows from the right side of the table + matched rows.\n",
    "\n",
    "* The result of LEFT OUTER join can be seen as INNER JOIN + unmatched rows of left table while the result of the RIGHT OUTER join is equal to INNER JOIN + unmatched rows from the right side table.\n"
   ]
  },
  {
   "cell_type": "code",
   "execution_count": null,
   "metadata": {
    "id": "lpJi624cFpzd",
    "outputId": "82522626-8d96-4333-8f9a-e781e6d70c99"
   },
   "outputs": [],
   "source": [
    "query = \"select * from orders left join customers on orders.customer_id=customers.customer_id\"\n",
    "data = pd.read_sql(query,connection)\n",
    "print(data.shape)\n",
    "data"
   ]
  },
  {
   "cell_type": "markdown",
   "metadata": {
    "id": "NNw3pGT-Fpze"
   },
   "source": [
    "## SQL Right Join\n",
    "Also called as Right outer join"
   ]
  },
  {
   "cell_type": "code",
   "execution_count": null,
   "metadata": {
    "id": "CotaXB4IFpze",
    "outputId": "3b47b9b1-a859-4c2e-b679-3bf3cdedf320"
   },
   "outputs": [],
   "source": [
    "\n",
    "query = \"select * from orders  right join customers on orders.customer_id=customers.customer_id\"\n",
    "data = pd.read_sql(query,connection)\n",
    "print(data.shape)\n",
    "data"
   ]
  },
  {
   "cell_type": "code",
   "execution_count": null,
   "metadata": {
    "id": "uSAZbQciFpzf"
   },
   "outputs": [],
   "source": [
    "# fechting only customers details who have orders\n",
    "query = \"select * from customers  right join orders on orders.customer_id=customers.customer_id\"\n",
    "data = pd.read_sql(query,connection)\n",
    "print(data.shape)\n",
    "data"
   ]
  },
  {
   "cell_type": "markdown",
   "metadata": {
    "id": "xNp8H_E7Fpzf"
   },
   "source": [
    "## SQL Inner Join\n",
    "This is default"
   ]
  },
  {
   "cell_type": "code",
   "execution_count": null,
   "metadata": {
    "id": "1lZKYEwdFpzg",
    "outputId": "f2b2321d-0eed-4d8f-ba65-b5135d593146"
   },
   "outputs": [],
   "source": [
    "# fechting only customers details who have orders\n",
    "query = \"select * from customers  inner join orders on orders.customer_id=customers.customer_id\"\n",
    "data = pd.read_sql(query,connection)\n",
    "print(data.shape)\n",
    "data"
   ]
  },
  {
   "cell_type": "markdown",
   "metadata": {
    "id": "sv_ISPETFpzg"
   },
   "source": [
    "#  Join multiple tables"
   ]
  },
  {
   "cell_type": "code",
   "execution_count": null,
   "metadata": {
    "id": "UF5TmlpsFpzg",
    "outputId": "2bcf9517-9b0b-4c66-b3f2-f0706e26935a"
   },
   "outputs": [],
   "source": [
    "# fechting only customers details who have orders\n",
    "query = \"select * from orders  \\\n",
    "left join customers on orders.customer_id=customers.customer_id \\\n",
    "right join products  on orders.product_id = products.product_id\"\n",
    "data = pd.read_sql(query,connection)\n",
    "print(data.shape)\n",
    "data"
   ]
  },
  {
   "cell_type": "code",
   "execution_count": null,
   "metadata": {
    "id": "aBLBu-BoFpzh"
   },
   "outputs": [],
   "source": [
    "type(data)"
   ]
  },
  {
   "cell_type": "markdown",
   "metadata": {
    "id": "yPGsvFsfFpzi"
   },
   "source": [
    "## Quick Assessment"
   ]
  },
  {
   "cell_type": "raw",
   "metadata": {
    "id": "NhQM4CMrFpzj"
   },
   "source": [
    "Fetch Orders information of the customers from the California State."
   ]
  },
  {
   "cell_type": "code",
   "execution_count": null,
   "metadata": {
    "id": "vtGB_sjFFpzj",
    "scrolled": true
   },
   "outputs": [],
   "source": [
    "query = \"select customer_id,state from customers where state='California' \" \n",
    "customers = pd.read_sql(query,connection)\n",
    "print(customers.shape)\n",
    "customers"
   ]
  },
  {
   "cell_type": "code",
   "execution_count": null,
   "metadata": {
    "id": "TqvqyepyFpzj"
   },
   "outputs": [],
   "source": [
    "query = \"select * from orders where customer_id in (select customer_id from customers where state='California' )\" # SQL statement\n",
    "orders = pd.read_sql(query,connection)\n",
    "print(orders.shape)\n",
    "orders"
   ]
  },
  {
   "cell_type": "raw",
   "metadata": {
    "id": "YfypKoDOFpzk"
   },
   "source": [
    "Fetch Orders information of customers from california who ordered furnitures."
   ]
  },
  {
   "cell_type": "code",
   "execution_count": null,
   "metadata": {
    "id": "8KeU8OA4Fpzk",
    "scrolled": true
   },
   "outputs": [],
   "source": [
    "query = \"select order_id,order_date,orders.customer_id,orders.product_id,sales,quantity from orders  \\\n",
    "inner join customers on orders.customer_id=customers.customer_id \\\n",
    "inner join products  on orders.product_id = products.product_id where  products.category='Furniture' and customers.state='California' \"  \n",
    "data = pd.read_sql(query,connection)\n",
    "print(data.shape)\n",
    "data"
   ]
  },
  {
   "cell_type": "markdown",
   "metadata": {
    "id": "eMq5QCxjFpzm"
   },
   "source": [
    "# Saving database tables in your system"
   ]
  },
  {
   "cell_type": "code",
   "execution_count": null,
   "metadata": {},
   "outputs": [],
   "source": [
    "query = \"select * from products \" # SQL statement\n",
    "products = pd.read_sql(query,connection)\n",
    "print(products.shape)"
   ]
  },
  {
   "cell_type": "code",
   "execution_count": null,
   "metadata": {
    "id": "H5v8U-Pfw_mO"
   },
   "outputs": [],
   "source": [
    "products.to_csv('Products.csv')"
   ]
  },
  {
   "cell_type": "code",
   "execution_count": null,
   "metadata": {},
   "outputs": [],
   "source": []
  }
 ],
 "metadata": {
  "colab": {
   "name": "SQL for DataScience.ipynb",
   "provenance": []
  },
  "kernelspec": {
   "display_name": "Python 3 (ipykernel)",
   "language": "python",
   "name": "python3"
  },
  "language_info": {
   "codemirror_mode": {
    "name": "ipython",
    "version": 3
   },
   "file_extension": ".py",
   "mimetype": "text/x-python",
   "name": "python",
   "nbconvert_exporter": "python",
   "pygments_lexer": "ipython3",
   "version": "3.9.7"
  }
 },
 "nbformat": 4,
 "nbformat_minor": 1
}
